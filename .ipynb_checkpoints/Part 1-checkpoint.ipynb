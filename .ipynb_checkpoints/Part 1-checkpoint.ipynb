{
 "cells": [
  {
   "cell_type": "code",
   "execution_count": null,
   "id": "b0b1bc9f-34b7-40de-855d-ecb2f5f7f2d8",
   "metadata": {},
   "outputs": [],
   "source": [
    "#Q1: Create a file that contains 1000 lines of random strings."
   ]
  },
  {
   "cell_type": "code",
   "execution_count": 1,
   "id": "a292968d-a594-405e-8ef1-5fd8835acee6",
   "metadata": {},
   "outputs": [],
   "source": [
    "import random\n",
    "import string\n",
    "\n",
    "# Generate a random string of a fixed length\n",
    "def random_string(length=10):\n",
    "    return ''.join(random.choices(string.ascii_letters, k=length))\n",
    "\n",
    "# Write 1000 lines of random strings to a file\n",
    "with open('1000_random_strings.txt', 'w') as f:\n",
    "    for _ in range(1000):\n",
    "        f.write(random_string(50) + '\\n')"
   ]
  },
  {
   "cell_type": "code",
   "execution_count": null,
   "id": "f7bb9591-0f85-48cf-b690-e5f3883c0cf0",
   "metadata": {},
   "outputs": [],
   "source": [
    "#Q2: Create a file that contains multiple lines of random strings and file size must be 5 MB."
   ]
  },
  {
   "cell_type": "code",
   "execution_count": 3,
   "id": "060a2dde-633c-49f0-a6ad-02224bca81b4",
   "metadata": {},
   "outputs": [],
   "source": [
    "import os\n",
    "\n",
    "# Generate a file of approximately specified size in MB\n",
    "def generate_file_with_size(filename, size_mb):\n",
    "    size_bytes = size_mb * 1024 * 1024\n",
    "    with open(filename, 'w') as f:\n",
    "        while f.tell() < size_bytes:\n",
    "            f.write(random_string(50) + '\\n')\n",
    "\n",
    "generate_file_with_size('5MB_random_strings.txt', 5)"
   ]
  },
  {
   "cell_type": "code",
   "execution_count": null,
   "id": "61bea225-b2c6-4a13-9a80-14c06070c614",
   "metadata": {},
   "outputs": [],
   "source": [
    "#Q3: Create 10 files that contains multiple lines of random strings and file size of each file must be 5 MB."
   ]
  },
  {
   "cell_type": "code",
   "execution_count": 5,
   "id": "1973fdb1-64c4-4a56-91d6-927b88496016",
   "metadata": {},
   "outputs": [],
   "source": [
    "for i in range(1, 11):\n",
    "    generate_file_with_size(f'5MB_random_strings_{i}.txt', 5)"
   ]
  },
  {
   "cell_type": "code",
   "execution_count": null,
   "id": "90fb0a95-54b0-466c-90be-a80e3d1d6ab8",
   "metadata": {},
   "outputs": [],
   "source": [
    "#Q4: Create 5 files of size 1GB, 2GB, 3GB, 4GB, and 5GB; file contains multiple lines of random strings."
   ]
  },
  {
   "cell_type": "code",
   "execution_count": null,
   "id": "204b9f98-cbc6-4242-962b-062187076221",
   "metadata": {},
   "outputs": [],
   "source": [
    "sizes_gb = [1, 2, 3, 4, 5]\n",
    "\n",
    "for i, size in enumerate(sizes_gb, 1):\n",
    "    generate_file_with_size(f'{size}GB_random_strings.txt', size * 1024)"
   ]
  },
  {
   "cell_type": "code",
   "execution_count": null,
   "id": "a7b2b93d-009e-474e-8dc8-7fa6cd6dd0ae",
   "metadata": {},
   "outputs": [],
   "source": [
    "#Q5: Convert all the files of Q4 into uppercase one by one."
   ]
  },
  {
   "cell_type": "code",
   "execution_count": null,
   "id": "85ce2af9-39ad-4290-b365-e4d8f6b8ca54",
   "metadata": {},
   "outputs": [],
   "source": [
    "def convert_to_uppercase(filename):\n",
    "    with open(filename, 'r') as f:\n",
    "        content = f.read()\n",
    "    with open(filename, 'w') as f:\n",
    "        f.write(content.upper())\n",
    "\n",
    "for size in sizes_gb:\n",
    "    convert_to_uppercase(f'{size}GB_random_strings.txt')"
   ]
  },
  {
   "cell_type": "code",
   "execution_count": null,
   "id": "3c21a30c-b8b6-4c3a-99dc-a12ed9a54b24",
   "metadata": {},
   "outputs": [],
   "source": [
    "#Q6: Convert all the files of Q4 into uppercase parallel using multi-threading."
   ]
  },
  {
   "cell_type": "code",
   "execution_count": null,
   "id": "f8048b1f-3c0b-4b2b-aa99-21e5bded7f1c",
   "metadata": {},
   "outputs": [],
   "source": [
    "import threading\n",
    "\n",
    "def convert_to_uppercase_thread(filename):\n",
    "    convert_to_uppercase(filename)\n",
    "\n",
    "threads = []\n",
    "for size in sizes_gb:\n",
    "    t = threading.Thread(target=convert_to_uppercase_thread, args=(f'{size}GB_random_strings.txt',))\n",
    "    threads.append(t)\n",
    "    t.start()\n",
    "\n",
    "for t in threads:\n",
    "    t.join()"
   ]
  },
  {
   "cell_type": "code",
   "execution_count": 9,
   "id": "b6f9dfd0-b067-4ffa-a565-163417cf59d5",
   "metadata": {},
   "outputs": [
    {
     "name": "stdout",
     "output_type": "stream",
     "text": [
      "Collecting google_images_download\n",
      "  Downloading google_images_download-2.8.0.tar.gz (14 kB)\n",
      "  Preparing metadata (setup.py): started\n",
      "  Preparing metadata (setup.py): finished with status 'done'\n",
      "Collecting selenium (from google_images_download)\n",
      "  Downloading selenium-4.21.0-py3-none-any.whl.metadata (6.9 kB)\n",
      "Requirement already satisfied: urllib3<3,>=1.26 in c:\\users\\jak\\anaconda3\\lib\\site-packages (from urllib3[socks]<3,>=1.26->selenium->google_images_download) (2.0.7)\n",
      "Collecting trio~=0.17 (from selenium->google_images_download)\n",
      "  Downloading trio-0.25.1-py3-none-any.whl.metadata (8.7 kB)\n",
      "Collecting trio-websocket~=0.9 (from selenium->google_images_download)\n",
      "  Downloading trio_websocket-0.11.1-py3-none-any.whl.metadata (4.7 kB)\n",
      "Requirement already satisfied: certifi>=2021.10.8 in c:\\users\\jak\\anaconda3\\lib\\site-packages (from selenium->google_images_download) (2024.6.2)\n",
      "Requirement already satisfied: typing_extensions>=4.9.0 in c:\\users\\jak\\anaconda3\\lib\\site-packages (from selenium->google_images_download) (4.9.0)\n",
      "Collecting attrs>=23.2.0 (from trio~=0.17->selenium->google_images_download)\n",
      "  Using cached attrs-23.2.0-py3-none-any.whl.metadata (9.5 kB)\n",
      "Requirement already satisfied: sortedcontainers in c:\\users\\jak\\anaconda3\\lib\\site-packages (from trio~=0.17->selenium->google_images_download) (2.4.0)\n",
      "Requirement already satisfied: idna in c:\\users\\jak\\anaconda3\\lib\\site-packages (from trio~=0.17->selenium->google_images_download) (3.4)\n",
      "Collecting outcome (from trio~=0.17->selenium->google_images_download)\n",
      "  Downloading outcome-1.3.0.post0-py2.py3-none-any.whl.metadata (2.6 kB)\n",
      "Requirement already satisfied: sniffio>=1.3.0 in c:\\users\\jak\\anaconda3\\lib\\site-packages (from trio~=0.17->selenium->google_images_download) (1.3.0)\n",
      "Requirement already satisfied: cffi>=1.14 in c:\\users\\jak\\anaconda3\\lib\\site-packages (from trio~=0.17->selenium->google_images_download) (1.16.0)\n",
      "Collecting wsproto>=0.14 (from trio-websocket~=0.9->selenium->google_images_download)\n",
      "  Downloading wsproto-1.2.0-py3-none-any.whl.metadata (5.6 kB)\n",
      "Requirement already satisfied: pysocks!=1.5.7,<2.0,>=1.5.6 in c:\\users\\jak\\anaconda3\\lib\\site-packages (from urllib3[socks]<3,>=1.26->selenium->google_images_download) (1.7.1)\n",
      "Requirement already satisfied: pycparser in c:\\users\\jak\\anaconda3\\lib\\site-packages (from cffi>=1.14->trio~=0.17->selenium->google_images_download) (2.21)\n",
      "Requirement already satisfied: h11<1,>=0.9.0 in c:\\users\\jak\\anaconda3\\lib\\site-packages (from wsproto>=0.14->trio-websocket~=0.9->selenium->google_images_download) (0.14.0)\n",
      "Downloading selenium-4.21.0-py3-none-any.whl (9.5 MB)\n",
      "   ---------------------------------------- 0.0/9.5 MB ? eta -:--:--\n",
      "   ---------------------------------------- 0.1/9.5 MB 3.3 MB/s eta 0:00:03\n",
      "   -- ------------------------------------- 0.5/9.5 MB 6.2 MB/s eta 0:00:02\n",
      "   ---- ----------------------------------- 1.1/9.5 MB 8.9 MB/s eta 0:00:01\n",
      "   ------ --------------------------------- 1.5/9.5 MB 8.5 MB/s eta 0:00:01\n",
      "   --------- ------------------------------ 2.2/9.5 MB 9.9 MB/s eta 0:00:01\n",
      "   ----------- ---------------------------- 2.8/9.5 MB 10.5 MB/s eta 0:00:01\n",
      "   -------------- ------------------------- 3.5/9.5 MB 11.3 MB/s eta 0:00:01\n",
      "   ----------------- ---------------------- 4.0/9.5 MB 11.7 MB/s eta 0:00:01\n",
      "   -------------------- ------------------- 4.8/9.5 MB 11.8 MB/s eta 0:00:01\n",
      "   ----------------------- ---------------- 5.6/9.5 MB 12.3 MB/s eta 0:00:01\n",
      "   --------------------------- ------------ 6.5/9.5 MB 12.9 MB/s eta 0:00:01\n",
      "   ------------------------------- -------- 7.4/9.5 MB 13.5 MB/s eta 0:00:01\n",
      "   ------------------------------- -------- 7.4/9.5 MB 13.5 MB/s eta 0:00:01\n",
      "   ------------------------------- -------- 7.4/9.5 MB 13.5 MB/s eta 0:00:01\n",
      "   -------------------------------- ------- 7.6/9.5 MB 11.3 MB/s eta 0:00:01\n",
      "   ---------------------------------- ----- 8.1/9.5 MB 11.2 MB/s eta 0:00:01\n",
      "   ----------------------------------- ---- 8.4/9.5 MB 10.9 MB/s eta 0:00:01\n",
      "   ------------------------------------ --- 8.7/9.5 MB 10.7 MB/s eta 0:00:01\n",
      "   ------------------------------------- -- 8.9/9.5 MB 10.3 MB/s eta 0:00:01\n",
      "   ------------------------------------- -- 8.9/9.5 MB 9.8 MB/s eta 0:00:01\n",
      "   -------------------------------------- - 9.0/9.5 MB 9.5 MB/s eta 0:00:01\n",
      "   -------------------------------------- - 9.1/9.5 MB 9.2 MB/s eta 0:00:01\n",
      "   ---------------------------------------  9.4/9.5 MB 8.9 MB/s eta 0:00:01\n",
      "   ---------------------------------------- 9.5/9.5 MB 8.8 MB/s eta 0:00:00\n",
      "Downloading trio-0.25.1-py3-none-any.whl (467 kB)\n",
      "   ---------------------------------------- 0.0/467.7 kB ? eta -:--:--\n",
      "   ------------------------- -------------- 297.0/467.7 kB 9.0 MB/s eta 0:00:01\n",
      "   ---------------------------------------- 467.7/467.7 kB 5.9 MB/s eta 0:00:00\n",
      "Downloading trio_websocket-0.11.1-py3-none-any.whl (17 kB)\n",
      "Using cached attrs-23.2.0-py3-none-any.whl (60 kB)\n",
      "Downloading wsproto-1.2.0-py3-none-any.whl (24 kB)\n",
      "Downloading outcome-1.3.0.post0-py2.py3-none-any.whl (10 kB)\n",
      "Building wheels for collected packages: google_images_download\n",
      "  Building wheel for google_images_download (setup.py): started\n",
      "  Building wheel for google_images_download (setup.py): finished with status 'done'\n",
      "  Created wheel for google_images_download: filename=google_images_download-2.8.0-py2.py3-none-any.whl size=14548 sha256=5a7b2014baa1bfef2687575159c2da28cf43ab293640a57150ad926c5cedc6e3\n",
      "  Stored in directory: c:\\users\\jak\\appdata\\local\\pip\\cache\\wheels\\dc\\83\\37\\7303b15f3e8a5bfbd5c7ebbfe13f0c666ada6f8efecc6d77ec\n",
      "Successfully built google_images_download\n",
      "Installing collected packages: wsproto, attrs, outcome, trio, trio-websocket, selenium, google_images_download\n",
      "  Attempting uninstall: attrs\n",
      "    Found existing installation: attrs 23.1.0\n",
      "    Uninstalling attrs-23.1.0:\n",
      "      Successfully uninstalled attrs-23.1.0\n",
      "Successfully installed attrs-23.2.0 google_images_download-2.8.0 outcome-1.3.0.post0 selenium-4.21.0 trio-0.25.1 trio-websocket-0.11.1 wsproto-1.2.0\n"
     ]
    }
   ],
   "source": [
    "!pip install google_images_download"
   ]
  },
  {
   "cell_type": "code",
   "execution_count": null,
   "id": "c2d55d9b-0cad-4f38-9691-2948693bd918",
   "metadata": {},
   "outputs": [],
   "source": [
    "#Q7: Automatically download 10 images of cats from Google Images."
   ]
  },
  {
   "cell_type": "code",
   "execution_count": 11,
   "id": "334f2acf-c55f-4649-bd14-77c68d5148f8",
   "metadata": {},
   "outputs": [
    {
     "name": "stdout",
     "output_type": "stream",
     "text": [
      "\n",
      "Item no.: 1 --> Item name = cat\n",
      "Evaluating...\n",
      "Starting Download...\n",
      "\n",
      "\n",
      "Unfortunately all 10 could not be downloaded because some images were not downloadable. 0 is all we got for this search filter!\n",
      "\n",
      "Errors: 0\n",
      "\n"
     ]
    },
    {
     "data": {
      "text/plain": [
       "({'cat': []}, 0)"
      ]
     },
     "execution_count": 11,
     "metadata": {},
     "output_type": "execute_result"
    }
   ],
   "source": [
    "from google_images_download import google_images_download\n",
    "\n",
    "response = google_images_download.googleimagesdownload()\n",
    "\n",
    "arguments = {\"keywords\": \"cat\", \"limit\": 10, \"print_urls\": False}\n",
    "response.download(arguments)"
   ]
  },
  {
   "cell_type": "code",
   "execution_count": null,
   "id": "accb2446-44d1-4f80-87a7-f839f5ff6f67",
   "metadata": {},
   "outputs": [],
   "source": [
    "#Q8: Automatically download 10 videos of \"Machine Learning\" from YouTube."
   ]
  },
  {
   "cell_type": "code",
   "execution_count": 13,
   "id": "6a8d9989-2d87-4912-8d28-4e67021b5fe4",
   "metadata": {},
   "outputs": [
    {
     "name": "stdout",
     "output_type": "stream",
     "text": [
      "Collecting pytube\n",
      "  Downloading pytube-15.0.0-py3-none-any.whl.metadata (5.0 kB)\n",
      "Downloading pytube-15.0.0-py3-none-any.whl (57 kB)\n",
      "   ---------------------------------------- 0.0/57.6 kB ? eta -:--:--\n",
      "   ------- -------------------------------- 10.2/57.6 kB ? eta -:--:--\n",
      "   --------------------- ------------------ 30.7/57.6 kB 330.3 kB/s eta 0:00:01\n",
      "   ---------------------------------------- 57.6/57.6 kB 434.4 kB/s eta 0:00:00\n",
      "Installing collected packages: pytube\n",
      "Successfully installed pytube-15.0.0\n"
     ]
    }
   ],
   "source": [
    "!pip install pytube"
   ]
  },
  {
   "cell_type": "code",
   "execution_count": null,
   "id": "99b02bb2-8ce5-4119-9298-deffde6664a3",
   "metadata": {},
   "outputs": [],
   "source": [
    "from pytube import Search\n",
    "\n",
    "def download_videos(search_term, num_videos):\n",
    "    search = Search(search_term)\n",
    "    videos = search.results[:num_videos]\n",
    "    for video in videos:\n",
    "        video.streams.get_highest_resolution().download()\n",
    "\n",
    "download_videos(\"Machine Learning\", 10)"
   ]
  },
  {
   "cell_type": "code",
   "execution_count": null,
   "id": "262d9fd5-2e16-485e-960b-b5a1bd220d11",
   "metadata": {},
   "outputs": [],
   "source": [
    "#Q9: Convert all the videos of Q8 to audio."
   ]
  },
  {
   "cell_type": "code",
   "execution_count": null,
   "id": "fbe69bde-767a-4e0f-b1ee-bf9ed4951fbf",
   "metadata": {},
   "outputs": [],
   "source": [
    "import os\n",
    "from moviepy.editor import VideoFileClip\n",
    "\n",
    "def convert_videos_to_audio(video_folder):\n",
    "    for video_file in os.listdir(video_folder):\n",
    "        if video_file.endswith(\".mp4\"):\n",
    "            video_path = os.path.join(video_folder, video_file)\n",
    "            audio_path = os.path.splitext(video_path)[0] + '.mp3'\n",
    "            video = VideoFileClip(video_path)\n",
    "            video.audio.write_audiofile(audio_path)\n",
    "\n",
    "convert_videos_to_audio('path_to_your_videos_folder')"
   ]
  },
  {
   "cell_type": "code",
   "execution_count": null,
   "id": "19c89dbd-9cb7-4e25-b976-e3548e16a4d7",
   "metadata": {},
   "outputs": [],
   "source": [
    "#Q10: Create an automated pipeline using multi-threading for: “Automatic Download of 100 Videos from YouTube” → “Convert it to Audio”."
   ]
  },
  {
   "cell_type": "code",
   "execution_count": null,
   "id": "ce379ba0-dcc3-4748-b267-13328ac5aac6",
   "metadata": {},
   "outputs": [],
   "source": [
    "def download_and_convert(search_term, num_videos):\n",
    "    search = Search(search_term)\n",
    "    videos = search.results[:num_videos]\n",
    "    threads = []\n",
    "    \n",
    "    def download_and_convert_single(video):\n",
    "        video_path = video.streams.get_highest_resolution().download()\n",
    "        audio_path = os.path.splitext(video_path)[0] + '.mp3'\n",
    "        video_clip = VideoFileClip(video_path)\n",
    "        video_clip.audio.write_audiofile(audio_path)\n",
    "\n",
    "    for video in videos:\n",
    "        t = threading.Thread(target=download_and_convert_single, args=(video,))\n",
    "        threads.append(t)\n",
    "        t.start()\n",
    "\n",
    "    for t in threads:\n",
    "        t.join()\n",
    "\n",
    "download_and_convert(\"Machine Learning\", 100)"
   ]
  },
  {
   "cell_type": "code",
   "execution_count": null,
   "id": "172d27bc-6ac1-4520-97f2-d43dc869dcd4",
   "metadata": {},
   "outputs": [],
   "source": [
    "#Q11: Create an automated pipeline using multi-threading for: “Automatic Download of 500 images of Dog from GoogleImages” → “Rescale it to 50%”."
   ]
  },
  {
   "cell_type": "code",
   "execution_count": 15,
   "id": "37187dd4-37d6-43ed-a3bc-6d2d9c4306cf",
   "metadata": {},
   "outputs": [
    {
     "name": "stdout",
     "output_type": "stream",
     "text": [
      "Requirement already satisfied: pillow in c:\\users\\jak\\anaconda3\\lib\\site-packages (10.2.0)\n"
     ]
    }
   ],
   "source": [
    "!pip install pillow"
   ]
  },
  {
   "cell_type": "code",
   "execution_count": null,
   "id": "8e6d0dda-e324-4da5-be27-36ff4b4ca559",
   "metadata": {},
   "outputs": [],
   "source": [
    "from PIL import Image\n",
    "import io\n",
    "\n",
    "def download_and_rescale_images(keyword, limit, scale_factor):\n",
    "    response = google_images_download.googleimagesdownload()\n",
    "    arguments = {\"keywords\": keyword, \"limit\": limit, \"print_urls\": False}\n",
    "    paths = response.download(arguments)\n",
    "    \n",
    "    threads = []\n",
    "    def rescale_image(image_path):\n",
    "        img = Image.open(image_path)\n",
    "        img = img.resize((img.width // scale_factor, img.height // scale_factor))\n",
    "        img.save(image_path)\n",
    "\n",
    "    for image_path in paths[keyword]:\n",
    "        t = threading.Thread(target=rescale_image, args=(image_path,))\n",
    "        threads.append(t)\n",
    "        t.start()\n",
    "\n",
    "    for t in threads:\n",
    "        t.join()\n",
    "\n",
    "download_and_rescale_images(\"Dog\", 500, 2)"
   ]
  },
  {
   "cell_type": "code",
   "execution_count": null,
   "id": "3eb8539f-4e16-4382-972d-a9d7bec5aae2",
   "metadata": {},
   "outputs": [],
   "source": []
  }
 ],
 "metadata": {
  "kernelspec": {
   "display_name": "Python 3 (ipykernel)",
   "language": "python",
   "name": "python3"
  },
  "language_info": {
   "codemirror_mode": {
    "name": "ipython",
    "version": 3
   },
   "file_extension": ".py",
   "mimetype": "text/x-python",
   "name": "python",
   "nbconvert_exporter": "python",
   "pygments_lexer": "ipython3",
   "version": "3.11.7"
  }
 },
 "nbformat": 4,
 "nbformat_minor": 5
}
