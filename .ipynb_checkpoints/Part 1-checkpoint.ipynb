{
 "cells": [
  {
   "cell_type": "code",
   "execution_count": 1,
   "id": "a292968d-a594-405e-8ef1-5fd8835acee6",
   "metadata": {},
   "outputs": [],
   "source": [
    "import random\n",
    "import string\n",
    "\n",
    "# Generate a random string of a fixed length\n",
    "def random_string(length=10):\n",
    "    return ''.join(random.choices(string.ascii_letters, k=length))\n",
    "\n",
    "# Write 1000 lines of random strings to a file\n",
    "with open('1000_random_strings.txt', 'w') as f:\n",
    "    for _ in range(1000):\n",
    "        f.write(random_string(50) + '\\n')"
   ]
  },
  {
   "cell_type": "code",
   "execution_count": 3,
   "id": "060a2dde-633c-49f0-a6ad-02224bca81b4",
   "metadata": {},
   "outputs": [],
   "source": [
    "import os\n",
    "\n",
    "# Generate a file of approximately specified size in MB\n",
    "def generate_file_with_size(filename, size_mb):\n",
    "    size_bytes = size_mb * 1024 * 1024\n",
    "    with open(filename, 'w') as f:\n",
    "        while f.tell() < size_bytes:\n",
    "            f.write(random_string(50) + '\\n')\n",
    "\n",
    "generate_file_with_size('5MB_random_strings.txt', 5)"
   ]
  },
  {
   "cell_type": "code",
   "execution_count": null,
   "id": "1973fdb1-64c4-4a56-91d6-927b88496016",
   "metadata": {},
   "outputs": [],
   "source": []
  }
 ],
 "metadata": {
  "kernelspec": {
   "display_name": "Python 3 (ipykernel)",
   "language": "python",
   "name": "python3"
  },
  "language_info": {
   "codemirror_mode": {
    "name": "ipython",
    "version": 3
   },
   "file_extension": ".py",
   "mimetype": "text/x-python",
   "name": "python",
   "nbconvert_exporter": "python",
   "pygments_lexer": "ipython3",
   "version": "3.11.7"
  }
 },
 "nbformat": 4,
 "nbformat_minor": 5
}
